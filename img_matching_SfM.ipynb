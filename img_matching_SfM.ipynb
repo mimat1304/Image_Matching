{
 "cells": [
  {
   "cell_type": "code",
   "execution_count": null,
   "id": "abbfd0ef",
   "metadata": {
    "papermill": {
     "duration": 0.004657,
     "end_time": "2023-06-22T16:46:26.032782",
     "exception": false,
     "start_time": "2023-06-22T16:46:26.028125",
     "status": "completed"
    },
    "tags": []
   },
   "outputs": [],
   "source": []
  },
  {
   "cell_type": "code",
   "execution_count": 1,
   "id": "c124c433",
   "metadata": {
    "_cell_guid": "b1076dfc-b9ad-4769-8c92-a6c4dae69d19",
    "_uuid": "8f2839f25d086af736a60e9eeb907d3b93b6e0e5",
    "execution": {
     "iopub.execute_input": "2023-06-22T16:46:26.043011Z",
     "iopub.status.busy": "2023-06-22T16:46:26.042628Z",
     "iopub.status.idle": "2023-06-22T16:46:26.047797Z",
     "shell.execute_reply": "2023-06-22T16:46:26.047021Z"
    },
    "papermill": {
     "duration": 0.016435,
     "end_time": "2023-06-22T16:46:26.053463",
     "exception": false,
     "start_time": "2023-06-22T16:46:26.037028",
     "status": "completed"
    },
    "tags": []
   },
   "outputs": [],
   "source": [
    "# # This Python 3 environment comes with many helpful analytics libraries installed\n",
    "# # It is defined by the kaggle/python Docker image: https://github.com/kaggle/docker-python\n",
    "# # For example, here's several helpful packages to load\n",
    "\n",
    "# import numpy as np # linear algebra\n",
    "# import pandas as pd # data processing, CSV file I/O (e.g. pd.read_csv)\n",
    "\n",
    "# # Input data files are available in the read-only \"../input/\" directory\n",
    "# # For example, running this (by clicking run or pressing Shift+Enter) will list all files under the input directory\n",
    "\n",
    "# import os\n",
    "# for dirname, _, filenames in os.walk('/kaggle/input'):\n",
    "#     for filename in filenames:\n",
    "#         print(os.path.join(dirname, filename))\n",
    "\n",
    "# # You can write up to 20GB to the current directory (/kaggle/working/) that gets preserved as output when you create a version using \"Save & Run All\" \n",
    "# # You can also write temporary files to /kaggle/temp/, but they won't be saved outside of the current session"
   ]
  },
  {
   "cell_type": "code",
   "execution_count": 2,
   "id": "d98f808e",
   "metadata": {
    "execution": {
     "iopub.execute_input": "2023-06-22T16:46:26.063576Z",
     "iopub.status.busy": "2023-06-22T16:46:26.063155Z",
     "iopub.status.idle": "2023-06-22T16:46:26.643701Z",
     "shell.execute_reply": "2023-06-22T16:46:26.642606Z"
    },
    "papermill": {
     "duration": 0.58924,
     "end_time": "2023-06-22T16:46:26.646837",
     "exception": false,
     "start_time": "2023-06-22T16:46:26.057597",
     "status": "completed"
    },
    "tags": []
   },
   "outputs": [],
   "source": [
    "import numpy as np\n",
    "import cv2\n",
    "from scipy.linalg import svd\n",
    "from glob import glob\n"
   ]
  },
  {
   "cell_type": "code",
   "execution_count": 3,
   "id": "30ec2895",
   "metadata": {
    "execution": {
     "iopub.execute_input": "2023-06-22T16:46:26.656702Z",
     "iopub.status.busy": "2023-06-22T16:46:26.656281Z",
     "iopub.status.idle": "2023-06-22T16:46:26.660999Z",
     "shell.execute_reply": "2023-06-22T16:46:26.660019Z"
    },
    "papermill": {
     "duration": 0.012436,
     "end_time": "2023-06-22T16:46:26.663456",
     "exception": false,
     "start_time": "2023-06-22T16:46:26.651020",
     "status": "completed"
    },
    "tags": []
   },
   "outputs": [],
   "source": [
    "import pandas as pd"
   ]
  },
  {
   "cell_type": "code",
   "execution_count": 4,
   "id": "ebf5120c",
   "metadata": {
    "execution": {
     "iopub.execute_input": "2023-06-22T16:46:26.673108Z",
     "iopub.status.busy": "2023-06-22T16:46:26.672687Z",
     "iopub.status.idle": "2023-06-22T16:46:26.693559Z",
     "shell.execute_reply": "2023-06-22T16:46:26.692495Z"
    },
    "papermill": {
     "duration": 0.02851,
     "end_time": "2023-06-22T16:46:26.696014",
     "exception": false,
     "start_time": "2023-06-22T16:46:26.667504",
     "status": "completed"
    },
    "tags": []
   },
   "outputs": [],
   "source": [
    "submission= pd.read_csv('/kaggle/input/image-matching-challenge-2023/sample_submission.csv')"
   ]
  },
  {
   "cell_type": "code",
   "execution_count": 5,
   "id": "da448e1d",
   "metadata": {
    "execution": {
     "iopub.execute_input": "2023-06-22T16:46:26.707028Z",
     "iopub.status.busy": "2023-06-22T16:46:26.706195Z",
     "iopub.status.idle": "2023-06-22T16:46:26.725997Z",
     "shell.execute_reply": "2023-06-22T16:46:26.724959Z"
    },
    "papermill": {
     "duration": 0.028505,
     "end_time": "2023-06-22T16:46:26.728590",
     "exception": false,
     "start_time": "2023-06-22T16:46:26.700085",
     "status": "completed"
    },
    "tags": []
   },
   "outputs": [],
   "source": [
    "import cv2\n",
    "import numpy as np\n",
    "rotation_matrix_column=[]\n",
    "translation_vector_column=[]\n",
    "def sfm(images,submission,j):\n",
    "    # Step 1: Feature extraction and matching\n",
    "    sift = cv2.SIFT_create()\n",
    "    keypoints = []\n",
    "    descriptors = []\n",
    "\n",
    "    for gray in images:\n",
    "        kp, desc = sift.detectAndCompute(gray, None)\n",
    "        keypoints.append(kp)\n",
    "        descriptors.append(desc)\n",
    "\n",
    "    # Step 2: Feature matching\n",
    "    matcher = cv2.BFMatcher()\n",
    "    matches = []\n",
    "\n",
    "    for i in range(len(descriptors) - 1):\n",
    "        matches.append(matcher.knnMatch(descriptors[i], descriptors[i+1], k=2))\n",
    "\n",
    "    # Step 3: Camera pose estimation\n",
    "    camera_matrix = np.eye(3)\n",
    "    poses = [np.zeros((3, 1))]\n",
    "\n",
    "    for i in range(len(matches)):\n",
    "        src_pts = np.float32([keypoints[i][m[0].queryIdx].pt for m in matches[i]]).reshape(-1, 1, 2)\n",
    "        dst_pts = np.float32([keypoints[i+1][m[0].trainIdx].pt for m in matches[i]]).reshape(-1, 1, 2)\n",
    "\n",
    "        essential_matrix, _ = cv2.findEssentialMat(src_pts, dst_pts, camera_matrix)\n",
    "        _, rotation_matrix, translation_vector, _ = cv2.recoverPose(essential_matrix, src_pts, dst_pts, camera_matrix)\n",
    "        rotation_matrix_column.append(rotation_matrix)\n",
    "        translation_vector_column.append(translation_vector)\n",
    "        poses.append(poses[i] + rotation_matrix.dot(translation_vector))\n",
    "        # print(rotation_matrix)\n",
    "        string1=\"\"\n",
    "        string2=\"\"\n",
    "        for row in rotation_matrix:\n",
    "          string1=string1+';'.join(row.astype(str))\n",
    "        for row in translation_vector:\n",
    "          string2=string2+';'.join(row.astype(str))+\";\"\n",
    "        string2=string2[:-1]\n",
    "        newrow=pd.DataFrame({'dataset':[dataset],'scene':[scene],'image_path':[image_path[j]],'rotation_matrix':[string1],'translation_vector':[string2]})\n",
    "        submission=pd.concat([submission,newrow], ignore_index=True)\n",
    "        j=j+1\n",
    "        # submission['rotation_matrix']=submission['rotation_matrix'].append(pd.Series([string1]), ignore_index=True)\n",
    "\n",
    "        # submission['translation_vector']=submission['translation_vector'].append(pd.Series([string2]), ignore_index=True)\n",
    "    # Step 4: Triangulation\n",
    "    points_3d = []\n",
    "\n",
    "    for i in range(len(poses) - 1):\n",
    "        src_pts = np.float32([keypoints[i][m[0].queryIdx].pt for m in matches[i]]).reshape(-1, 1, 2)\n",
    "        dst_pts = np.float32([keypoints[i+1][m[0].trainIdx].pt for m in matches[i]]).reshape(-1, 1, 2)\n",
    "\n",
    "        projection_matrix_1 = np.hstack((np.eye(3), np.zeros((3, 1))))\n",
    "        projection_matrix_2 = np.hstack((rotation_matrix, translation_vector))\n",
    "\n",
    "        points = cv2.triangulatePoints(projection_matrix_1, projection_matrix_2, src_pts, dst_pts)\n",
    "        points /= points[3]\n",
    "        points_3d.append(points)\n",
    "#     submission.to_csv(\"submission.csv\",index=False)\n",
    "#    submission.to_csv(\"submission.csv\",mode='a', header=False, index=False)\n",
    "    return poses, points_3d\n"
   ]
  },
  {
   "cell_type": "code",
   "execution_count": 6,
   "id": "0c17ebb4",
   "metadata": {
    "execution": {
     "iopub.execute_input": "2023-06-22T16:46:26.739280Z",
     "iopub.status.busy": "2023-06-22T16:46:26.738221Z",
     "iopub.status.idle": "2023-06-22T16:46:26.749182Z",
     "shell.execute_reply": "2023-06-22T16:46:26.748205Z"
    },
    "papermill": {
     "duration": 0.018919,
     "end_time": "2023-06-22T16:46:26.751672",
     "exception": false,
     "start_time": "2023-06-22T16:46:26.732753",
     "status": "completed"
    },
    "tags": []
   },
   "outputs": [],
   "source": [
    "submission.to_csv(\"submission.csv\",index=False)"
   ]
  },
  {
   "cell_type": "code",
   "execution_count": 7,
   "id": "0990eb23",
   "metadata": {
    "execution": {
     "iopub.execute_input": "2023-06-22T16:46:26.761956Z",
     "iopub.status.busy": "2023-06-22T16:46:26.761173Z",
     "iopub.status.idle": "2023-06-22T16:46:30.599109Z",
     "shell.execute_reply": "2023-06-22T16:46:30.597968Z"
    },
    "papermill": {
     "duration": 3.846039,
     "end_time": "2023-06-22T16:46:30.601861",
     "exception": false,
     "start_time": "2023-06-22T16:46:26.755822",
     "status": "completed"
    },
    "tags": []
   },
   "outputs": [],
   "source": [
    "dataset = '2cfa01ab573141e4'\n",
    "scene = '2fa124afd1f74f38'\n",
    "src = f'/kaggle/input/image-matching-challenge-2023/train/heritage/dioscuri'\n",
    "image_path=glob(f'{src}/images/*')\n",
    "images = [cv2.cvtColor(cv2.imread(im), cv2.COLOR_BGR2GRAY) for im in glob(f'{src}/images/*')[:3]]\n",
    "str1='0;0;0;0;0;0;0;0;0'\n",
    "str2='0;0;0'\n",
    "nrow=pd.DataFrame({'dataset':[dataset],'image_path':[image_path[0]],'scene':[scene],'rotation_matrix':[str1],'translation_vector':[str2]})\n",
    "submission=pd.concat([submission,nrow], ignore_index=True)\n",
    "\n",
    "j=1\n",
    "poses, points_3d = sfm(images,submission,j)\n"
   ]
  },
  {
   "cell_type": "code",
   "execution_count": 8,
   "id": "6565d38c",
   "metadata": {
    "execution": {
     "iopub.execute_input": "2023-06-22T16:46:30.612116Z",
     "iopub.status.busy": "2023-06-22T16:46:30.611728Z",
     "iopub.status.idle": "2023-06-22T16:46:30.640688Z",
     "shell.execute_reply": "2023-06-22T16:46:30.639437Z"
    },
    "papermill": {
     "duration": 0.037423,
     "end_time": "2023-06-22T16:46:30.643522",
     "exception": false,
     "start_time": "2023-06-22T16:46:30.606099",
     "status": "completed"
    },
    "tags": []
   },
   "outputs": [
    {
     "data": {
      "text/html": [
       "<div>\n",
       "<style scoped>\n",
       "    .dataframe tbody tr th:only-of-type {\n",
       "        vertical-align: middle;\n",
       "    }\n",
       "\n",
       "    .dataframe tbody tr th {\n",
       "        vertical-align: top;\n",
       "    }\n",
       "\n",
       "    .dataframe thead th {\n",
       "        text-align: right;\n",
       "    }\n",
       "</style>\n",
       "<table border=\"1\" class=\"dataframe\">\n",
       "  <thead>\n",
       "    <tr style=\"text-align: right;\">\n",
       "      <th></th>\n",
       "      <th>image_path</th>\n",
       "      <th>dataset</th>\n",
       "      <th>scene</th>\n",
       "      <th>rotation_matrix</th>\n",
       "      <th>translation_vector</th>\n",
       "    </tr>\n",
       "  </thead>\n",
       "  <tbody>\n",
       "    <tr>\n",
       "      <th>0</th>\n",
       "      <td>2cfa01ab573141e4/2fa124afd1f74f38/images/09387...</td>\n",
       "      <td>2cfa01ab573141e4</td>\n",
       "      <td>2fa124afd1f74f38</td>\n",
       "      <td>0.3700584878256019;0.7870891328233803;0.632781...</td>\n",
       "      <td>0.12296637725515835;0.6206590405309732;0.10571...</td>\n",
       "    </tr>\n",
       "    <tr>\n",
       "      <th>1</th>\n",
       "      <td>2cfa01ab573141e4/2fa124afd1f74f38/images/11c07...</td>\n",
       "      <td>2cfa01ab573141e4</td>\n",
       "      <td>2fa124afd1f74f38</td>\n",
       "      <td>0.24107462449034978;0.6324667958150785;0.66208...</td>\n",
       "      <td>0.30084987667667396;0.6212308657300727;0.66494...</td>\n",
       "    </tr>\n",
       "    <tr>\n",
       "      <th>2</th>\n",
       "      <td>2cfa01ab573141e4/2fa124afd1f74f38/images/11d54...</td>\n",
       "      <td>2cfa01ab573141e4</td>\n",
       "      <td>2fa124afd1f74f38</td>\n",
       "      <td>0.16107224414906363;0.827391324245376;0.044308...</td>\n",
       "      <td>0.293163905050011;0.9682221798154219;0.8272006...</td>\n",
       "    </tr>\n",
       "    <tr>\n",
       "      <th>3</th>\n",
       "      <td>/kaggle/input/image-matching-challenge-2023/tr...</td>\n",
       "      <td>2cfa01ab573141e4</td>\n",
       "      <td>2fa124afd1f74f38</td>\n",
       "      <td>0;0;0;0;0;0;0;0;0</td>\n",
       "      <td>0;0;0</td>\n",
       "    </tr>\n",
       "  </tbody>\n",
       "</table>\n",
       "</div>"
      ],
      "text/plain": [
       "                                          image_path           dataset  \\\n",
       "0  2cfa01ab573141e4/2fa124afd1f74f38/images/09387...  2cfa01ab573141e4   \n",
       "1  2cfa01ab573141e4/2fa124afd1f74f38/images/11c07...  2cfa01ab573141e4   \n",
       "2  2cfa01ab573141e4/2fa124afd1f74f38/images/11d54...  2cfa01ab573141e4   \n",
       "3  /kaggle/input/image-matching-challenge-2023/tr...  2cfa01ab573141e4   \n",
       "\n",
       "              scene                                    rotation_matrix  \\\n",
       "0  2fa124afd1f74f38  0.3700584878256019;0.7870891328233803;0.632781...   \n",
       "1  2fa124afd1f74f38  0.24107462449034978;0.6324667958150785;0.66208...   \n",
       "2  2fa124afd1f74f38  0.16107224414906363;0.827391324245376;0.044308...   \n",
       "3  2fa124afd1f74f38                                  0;0;0;0;0;0;0;0;0   \n",
       "\n",
       "                                  translation_vector  \n",
       "0  0.12296637725515835;0.6206590405309732;0.10571...  \n",
       "1  0.30084987667667396;0.6212308657300727;0.66494...  \n",
       "2  0.293163905050011;0.9682221798154219;0.8272006...  \n",
       "3                                              0;0;0  "
      ]
     },
     "execution_count": 8,
     "metadata": {},
     "output_type": "execute_result"
    }
   ],
   "source": [
    "\n",
    "submission"
   ]
  },
  {
   "cell_type": "code",
   "execution_count": null,
   "id": "cc255a2e",
   "metadata": {
    "papermill": {
     "duration": 0.005612,
     "end_time": "2023-06-22T16:46:30.653532",
     "exception": false,
     "start_time": "2023-06-22T16:46:30.647920",
     "status": "completed"
    },
    "tags": []
   },
   "outputs": [],
   "source": []
  }
 ],
 "metadata": {
  "kernelspec": {
   "display_name": "Python 3",
   "language": "python",
   "name": "python3"
  },
  "language_info": {
   "codemirror_mode": {
    "name": "ipython",
    "version": 3
   },
   "file_extension": ".py",
   "mimetype": "text/x-python",
   "name": "python",
   "nbconvert_exporter": "python",
   "pygments_lexer": "ipython3",
   "version": "3.10.10"
  },
  "papermill": {
   "default_parameters": {},
   "duration": 18.307054,
   "end_time": "2023-06-22T16:46:31.580367",
   "environment_variables": {},
   "exception": null,
   "input_path": "__notebook__.ipynb",
   "output_path": "__notebook__.ipynb",
   "parameters": {},
   "start_time": "2023-06-22T16:46:13.273313",
   "version": "2.4.0"
  }
 },
 "nbformat": 4,
 "nbformat_minor": 5
}
